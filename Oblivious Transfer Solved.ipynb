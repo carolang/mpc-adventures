{
 "cells": [
  {
   "cell_type": "markdown",
   "id": "d5ec0a65",
   "metadata": {},
   "source": [
    "Paula knows a function $f: bool \\rightarrow int$.\n",
    "\n",
    "Valeria wants to query Paula for $f(true)$. The easiest way is for Valerie to simply ask for the value."
   ]
  },
  {
   "cell_type": "code",
   "execution_count": 19,
   "id": "190bde15",
   "metadata": {},
   "outputs": [],
   "source": [
    "class Paula:\n",
    "    def __init__(self):\n",
    "        self.valerie = None\n",
    "    \n",
    "    def send_f(self, b):\n",
    "        print(f\"Paula recieves parameter {b}.\")\n",
    "        value = self._f(b)\n",
    "        print(f\"Paula sends value {value}.\")\n",
    "        return value\n",
    "    \n",
    "    def _f(self, b):\n",
    "        if b:\n",
    "            return 1000\n",
    "        else:\n",
    "            return 500\n",
    "\n",
    "class Valerie:\n",
    "    def __init__(self):\n",
    "        self.paula = None\n",
    "\n",
    "    def get_f(self):\n",
    "        value = self.paula.send_f(True)\n",
    "        print(f\"Valerie obtains value {value}.\")\n",
    "    \n",
    "class Protocol:\n",
    "    def __init__(self):\n",
    "        self.paula = Paula()\n",
    "        self.valerie = Valerie()\n",
    "        \n",
    "        self.paula.valerie = self.valerie\n",
    "        self.valerie.paula = self.paula"
   ]
  },
  {
   "cell_type": "code",
   "execution_count": 20,
   "id": "22844e29",
   "metadata": {},
   "outputs": [
    {
     "name": "stdout",
     "output_type": "stream",
     "text": [
      "Paula recieves parameter True.\n",
      "Paula sends value 1000.\n",
      "Valerie obtains value 1000.\n"
     ]
    }
   ],
   "source": [
    "protocol = Protocol()\n",
    "value = protocol.valerie.get_f()"
   ]
  },
  {
   "cell_type": "markdown",
   "id": "d2a77ae6",
   "metadata": {},
   "source": [
    "Now Valerie doesn't want to tell Paula that she wants the value of $f$ for parameter $True$. She wants this transfer to be oblivious. The easiest way to do this is to ask for both of them, so Paula wouldn't know which value Valerie really wants."
   ]
  },
  {
   "cell_type": "code",
   "execution_count": 21,
   "id": "d80dbae7",
   "metadata": {},
   "outputs": [],
   "source": [
    "class Paula:\n",
    "    def __init__(self):\n",
    "        self.valerie = None\n",
    "    \n",
    "    def send_f(self, b):\n",
    "        print(f\"Paula recieves parameter {b}.\")\n",
    "        value = self._f(b)\n",
    "        print(f\"Paula sends value {value}.\")\n",
    "        return value\n",
    "    \n",
    "    def _f(self, b):\n",
    "        if b:\n",
    "            return 1000\n",
    "        else:\n",
    "            return 500\n",
    "\n",
    "class Valerie:\n",
    "    def __init__(self):\n",
    "        self.paula = None\n",
    "        self.parameter = True\n",
    "\n",
    "    def get_f(self):\n",
    "        value_for_true = self.paula.send_f(True)\n",
    "        value_for_false = self.paula.send_f(False)\n",
    "        \n",
    "        value = value_for_true if self.parameter else value_for_false\n",
    "        print(f\"Valerie obtains value {value}.\")\n",
    "    \n",
    "class Protocol:\n",
    "    def __init__(self):\n",
    "        self.paula = Paula()\n",
    "        self.valerie = Valerie()\n",
    "        \n",
    "        self.paula.valerie = self.valerie\n",
    "        self.valerie.paula = self.paula"
   ]
  },
  {
   "cell_type": "code",
   "execution_count": 23,
   "id": "0ee9da93",
   "metadata": {},
   "outputs": [
    {
     "name": "stdout",
     "output_type": "stream",
     "text": [
      "Paula recieves parameter True.\n",
      "Paula sends value 1000.\n",
      "Paula recieves parameter False.\n",
      "Paula sends value 500.\n",
      "Valerie obtains value 1000.\n"
     ]
    }
   ],
   "source": [
    "protocol = Protocol()\n",
    "value = protocol.valerie.get_f()"
   ]
  },
  {
   "cell_type": "markdown",
   "id": "6cd8567e",
   "metadata": {},
   "source": [
    "This works okay for Valerie, whose privacy is respected, but what if Paula doesn't want to give too much information either?\n",
    "\n",
    "Notice that in the first naive version Paula only gives one result to Valerie but in the second version she gives her both. This is not desirable.\n",
    "\n",
    "We'll see a protocol that allows both parties to mantain privacy. That is:\n",
    "- Paula only reveals one value to Valerie\n",
    "- Valerie doesn't reveal which of the values she wants"
   ]
  },
  {
   "cell_type": "markdown",
   "id": "eab078c0",
   "metadata": {},
   "source": [
    "We're going to need that both parties share a RSA key pair to be hide the requests.\n",
    "\n",
    "TODO: finish the explanation (?)"
   ]
  },
  {
   "cell_type": "code",
   "execution_count": 74,
   "id": "7ef63067",
   "metadata": {},
   "outputs": [
    {
     "name": "stdout",
     "output_type": "stream",
     "text": [
      "\n",
      "Paula sends blinds {True: 22978217445266776713287324742515604783172045074119006109647484519941115814358773719886981873100633508167539775433630877738297283644002127070834460104612208274976016644453101940777331690957331436033215201473390583840792408127248411343793170099070642980081569449796535152138123129060595504712138705104884151657908395715618830399861675756865160890995783103347585597547415892787241403920322787971838353563087893170189308309862477641052539900222106607647352104180869245082799288218258078009221413341075128142350708881550408230197207521518613617484267392628774237399660137481791299836390826385532175295912297596566534928249, False: 12235082329355976550003260781782138924375960507610687278902450320708975663525223340561026610713685039928955466239886860052274069026357429320306837522470540563611953106029892972872362040968724805673493394736803575312234698744828724076454096497116702740865970488464561742434633333669964223225488687639279806699090331718617920923980452794154932452070798138405459667576725658832187325534902278286524316610281266848737538219591299259953156003352067021516320802477295845150960575911979511634004723703813181914636219559031967007443763767257032281535209002540357555454738270824980589585765675592464722188585960131231712447}.\n",
      "\n",
      "Valerie calculates correct blind 22978217445266776713287324742515604783172045074119006109647484519941115814358773719886981873100633508167539775433630877738297283644002127070834460104612208274976016644453101940777331690957331436033215201473390583840792408127248411343793170099070642980081569449796535152138123129060595504712138705104884151657908395715618830399861675756865160890995783103347585597547415892787241403920322787971838353563087893170189308309862477641052539900222106607647352104180869245082799288218258078009221413341075128142350708881550408230197207521518613617484267392628774237399660137481791299836390826385532175295912297596566534928249.\n",
      "\n",
      "Valerie calculates hidden key 15649936071363318208951612524815568197884855808469661720604472901952935129818163006591252158012777661157626317147195081942869195776196900712266668427866206310899889004989310942395987550318524833686412952139292160092889904470041045745838890007539794962533364648166359901874044438493388055160313047174902010832557469625577640406471928866087877981378695163067404015861960310374959444313461018325669690429512038457465439173872950341643075493617449091219308284855918472911561167535981816018465511422485172980423547947729525525074589920491014992141077450166581345620117689633580998224501835538655693619296648946639725299880.\n",
      "\n",
      "Paula recieves parameter 15649936071363318208951612524815568197884855808469661720604472901952935129818163006591252158012777661157626317147195081942869195776196900712266668427866206310899889004989310942395987550318524833686412952139292160092889904470041045745838890007539794962533364648166359901874044438493388055160313047174902010832557469625577640406471928866087877981378695163067404015861960310374959444313461018325669690429512038457465439173872950341643075493617449091219308284855918472911561167535981816018465511422485172980423547947729525525074589920491014992141077450166581345620117689633580998224501835538655693619296648946639725299880.\n",
      "\n",
      "Paula sends values {True: 5445790677636572643577019632694987920805767974088049908812634507288299414458117736844448118494544551273762820449485453626702371882975843951698096093589043142706638204240330647140317267394002647739095542271162959898466796352536826701110824526905984278927384086586800312688509499530986966948819833103391409140540160923336796567929828118042770100192854688042007682410579116259418127516716743808768833512896981799822197800812655704185175733106422620235490124521856715540939625163794426221436041824261402819102469994070459726336073231636172946548939861100803671551372325296654570932986082246057835654666203002528255591074, False: 9497642600435313716663509611309090139236684059258082230291692997239943845076344515520940293138632548833903321269802758651155815332755763360139947800751742274065418184234452055095345930911934312858967377204687181201770765084242387374251108073703868954379578614397049598089388587387823875765004265560045482152635758525010440568870219457715961301581359481316857802526768893648695306793142454716255929666381566497885845218691685586913289521053721444000745325552661209856599648060733482147296395996243901000924626062531566278083183413644357674957187236907617647152175281102157224577125173063825433951009120110693630380916}.\n",
      "\n",
      "Valerie receives hidden value 5445790677636572643577019632694987920805767974088049908812634507288299414458117736844448118494544551273762820449485453626702371882975843951698096093589043142706638204240330647140317267394002647739095542271162959898466796352536826701110824526905984278927384086586800312688509499530986966948819833103391409140540160923336796567929828118042770100192854688042007682410579116259418127516716743808768833512896981799822197800812655704185175733106422620235490124521856715540939625163794426221436041824261402819102469994070459726336073231636172946548939861100803671551372325296654570932986082246057835654666203002528255591074.\n",
      "\n",
      "Valerie decrypts value 1000.\n"
     ]
    }
   ],
   "source": [
    "from Crypto.PublicKey import RSA\n",
    "import random\n",
    "\n",
    "def random_noise():\n",
    "    # N is a really big number\n",
    "    N = 2**2048\n",
    "    return random.randrange(N)\n",
    "\n",
    "class Paula:\n",
    "    def __init__(self, key, modulus):\n",
    "        self.valerie = None\n",
    "        \n",
    "        self.key = key\n",
    "        self.modulus = modulus\n",
    "        self.blinds = {\n",
    "            True: random_noise(),\n",
    "            False: random_noise(),\n",
    "        }\n",
    "    \n",
    "    def send_blinds(self):\n",
    "        print(f\"\\nPaula sends blinds {self.blinds}.\")\n",
    "        return self.blinds\n",
    "    \n",
    "    def calculate_k_b(self, bit, encrypted_key):\n",
    "        base = (encrypted_key - self.blinds[bit] + self.modulus) % self.modulus\n",
    "        return pow(base, self.key, self.modulus)\n",
    "        \n",
    "    def calculate_v_b(self, k_b, bit):\n",
    "        return (k_b + self._f(bit)) % self.modulus\n",
    "    \n",
    "    def calculate_encrypted_value(self, bit, encrypted_key):\n",
    "        k_b = self.calculate_k_b(bit, encrypted_key)\n",
    "        return self.calculate_v_b(k_b, bit)\n",
    "    \n",
    "    def send_f(self, encrypted_key):\n",
    "        print(f\"\\nPaula recieves parameter {encrypted_key}.\")\n",
    "    \n",
    "        values = {\n",
    "            b: self.calculate_encrypted_value(b, encrypted_key) \n",
    "            for b in [True, False]\n",
    "        }\n",
    "        print(f\"\\nPaula sends values {values}.\")\n",
    "        return values\n",
    "    \n",
    "    def _f(self, b):\n",
    "        if b:\n",
    "            return 1000\n",
    "        else:\n",
    "            return 500\n",
    "\n",
    "class Valerie:\n",
    "    def __init__(self, key, modulus):\n",
    "        self.paula = None\n",
    "        self.parameter = True\n",
    "        self.key = key\n",
    "        self.modulus = modulus\n",
    "        \n",
    "        self.k = random_noise()\n",
    "\n",
    "    def get_correct_blind(self):\n",
    "        return self.paula.send_blinds()[self.parameter]\n",
    "    \n",
    "    def get_correct_encrypted_value(self, hidden_key):\n",
    "        return self.paula.send_f(hidden_key)[self.parameter]\n",
    "    \n",
    "    def hide_key(self, blind):\n",
    "        return (blind + pow(self.k, self.key, self.modulus)) % self.modulus\n",
    "    \n",
    "    def retrieve_value(self, encrypted_value,):\n",
    "        return (encrypted_value - self.k + self.modulus) % self.modulus\n",
    "    \n",
    "    def get_f(self):\n",
    "        blind = self.get_correct_blind()\n",
    "        print(f\"\\nValerie calculates correct blind {blind}.\")\n",
    "        \n",
    "        hidden_key = self.hide_key(blind)\n",
    "        print(f\"\\nValerie calculates hidden key {hidden_key}.\")\n",
    "        \n",
    "        encrypted_value = self.get_correct_encrypted_value(hidden_key)\n",
    "        print(f\"\\nValerie receives hidden value {encrypted_value}.\")\n",
    "        \n",
    "        value = self.retrieve_value(encrypted_value)\n",
    "        print(f\"\\nValerie decrypts value {value}.\")\n",
    "    \n",
    "class Protocol:\n",
    "    def __init__(self):\n",
    "        key_pair = RSA.generate(bits=2048)\n",
    "        paula_key = key_pair.d\n",
    "        valerie_key = key_pair.e\n",
    "        modulus = key_pair.n\n",
    "        \n",
    "        self.paula = Paula(paula_key, modulus)\n",
    "        self.valerie = Valerie(valerie_key, modulus)\n",
    "        \n",
    "        self.paula.valerie = self.valerie\n",
    "        self.valerie.paula = self.paula\n",
    "        \n",
    "protocol = Protocol()\n",
    "value = protocol.valerie.get_f()"
   ]
  }
 ],
 "metadata": {
  "kernelspec": {
   "display_name": "Python 3 (ipykernel)",
   "language": "python",
   "name": "python3"
  },
  "language_info": {
   "codemirror_mode": {
    "name": "ipython",
    "version": 3
   },
   "file_extension": ".py",
   "mimetype": "text/x-python",
   "name": "python",
   "nbconvert_exporter": "python",
   "pygments_lexer": "ipython3",
   "version": "3.11.9"
  }
 },
 "nbformat": 4,
 "nbformat_minor": 5
}
