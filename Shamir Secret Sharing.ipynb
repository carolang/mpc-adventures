{
 "cells": [
  {
   "cell_type": "code",
   "execution_count": 12,
   "id": "71ae2163",
   "metadata": {},
   "outputs": [],
   "source": [
    "from sage.all_cmdline import *\n",
    "\n",
    "from sage.all import *\n",
    "\n",
    "PRIME = 65537\n",
    "F = GF(PRIME)\n",
    "\n",
    "# This is to write polynomials in a comfortable way\n",
    "R = PolynomialRing(F,'x')\n",
    "X = R.monomial(1)"
   ]
  },
  {
   "cell_type": "markdown",
   "id": "2acc6bba",
   "metadata": {},
   "source": [
    "# Shamir Secret Sharing"
   ]
  },
  {
   "cell_type": "markdown",
   "id": "0ce96fb5",
   "metadata": {},
   "source": [
    "The objective of this algorithm is to distribute a secret key among $N$ different parties in such a way that there's a number $t<N$ such that any $t+1$ or more parts can retrieve the secret but $t$ or less cannot.\n",
    "\n",
    "Formally, we want two functions to exist:\n",
    "- $S: \\mathbb{F}_p \\rightarrow \\mathbb{F}_p^N$ (called the Share function) that produces $N$ different shares that encode the secret passed as input\n",
    "- $R: \\mathbb{F}_p^s \\rightarrow \\mathbb{F}_p$ (called the Retrieve function) that, with any subset of $s>t$ shares, can obtain the secret."
   ]
  },
  {
   "cell_type": "markdown",
   "id": "27c75344",
   "metadata": {},
   "source": [
    "This is achieved using the fact that a polynomial of degree $t$ can be unequivocally determined by a set of $t+1$ evaluations, but not less.\n",
    "\n",
    "Furthermore, there's a method called the Lagrange Interpolation to reconstruct the polynomial from the $t+1$ evaluations $\\{(x_1, y_1), (x_2, y_2), \\dots , (x_{t+1}, y_{t+1})\\}$.\n",
    "\n",
    "Here we won't prove this fact, but we'll see how to construct the interpolating polynomial."
   ]
  },
  {
   "cell_type": "markdown",
   "id": "6c856732",
   "metadata": {},
   "source": [
    "## Lagrange interpolation"
   ]
  },
  {
   "cell_type": "markdown",
   "id": "cea48316",
   "metadata": {},
   "source": [
    "Let's say we have an unknown polynomial $P$ of degree $t$, and we're given a set of evaluations $\\{(x_1, y_1), (x_2, y_2), \\dots , (x_{t+1}, y_{t+1})\\}$ such that for each evaluation, $P(x_i) = y_i$.\n",
    "\n",
    "The strategy will be to build $t+1$ polynomials $L_i(x)$ such that:\n",
    "- $L_i(x_i) = 1$\n",
    "- $L_j(x_i) = 0$ for all $j\\neq i$\n",
    "\n",
    "What for? Consider the following polynomial:\n",
    "\n",
    "$L(x) = L_1(x)y_1 + L_2(x)y_2 + \\dots + L_{t+1}(x)y_{t+1}$ \n",
    "\n",
    "If we evaluate it in, say, $L(x_i)$, then $L_i(x_i) = 1$ and $L_i(x_i)y_i = y_i$. All the other $L_j(x_i)$ are 0. Then:\n",
    "\n",
    "$L(x_i) = y_i$\n",
    "\n",
    "When we give the formula for the $L_i$ we'll see that the degree of $L(x)$ is also at most $t$, so this means $P$ and $L$ are the same polynomial."
   ]
  },
  {
   "cell_type": "markdown",
   "id": "b6f62f07",
   "metadata": {},
   "source": [
    "Let's construct the $L_i$ then.\n",
    "\n",
    "We can start by constructing a polynomial $P_i(x)$ that evaluates to 0 in all the $x_j$ such that $i\\neq j$. This is equivalent to say that all those $x_j$ are $P_i$'s roots. So we can write it as:\n",
    "\n",
    "$P_i(x) = (x - x_1)\\dots (x - x_{i-1})(x - x_{i+1})\\dots(x - x_{t+1}) = \\prod_{j\\in\\{1\\dots t+1\\}\\land i\\neq j} (x - x_j)$\n",
    "\n",
    "Notice that the term $(x - x_i)$ doesn't appear in the formula.\n",
    "\n",
    "We're almost done. $P_i(x_i)$ doesn't need to be $1$. It's not 0 though, because, by the way we constructed it, $x_i$ isn't a root. So it's safe to divide the formula by $P_i(x_i)$. Finally, we get:\n",
    "\n",
    "$L_i(x) = \\frac{P_i(x)}{P_i(x_i)} = \\frac{\\prod_{j\\in\\{1\\dots t+1\\}\\land i\\neq j} (x - x_j)}{\\prod_{j\\in\\{1\\dots t+1\\}\\land i\\neq j} (x_i - x_j)}$"
   ]
  },
  {
   "cell_type": "code",
   "execution_count": 35,
   "id": "593f84c6",
   "metadata": {},
   "outputs": [
    {
     "name": "stdout",
     "output_type": "stream",
     "text": [
      "The original polynomial is: x^3 + 8*x^2 + 5*x + 1 of degree 3\n",
      "Evaluations are: [(1, 15), (2, 51), (3, 115), (4, 213)]\n",
      "The interpolated polynomial is: x^3 + 8*x^2 + 5*x + 1 of degree 3\n"
     ]
    }
   ],
   "source": [
    "class Point:\n",
    "    def __init__(self, x, y):\n",
    "        self.x = x\n",
    "        self.y = y\n",
    "        \n",
    "    @classmethod\n",
    "    def evaluation(cls, poly, x):\n",
    "        return cls(x, poly(x))\n",
    "    \n",
    "    def __repr__(self):\n",
    "        return f\"({self.x}, {self.y})\"\n",
    "        \n",
    "class Interpolator:\n",
    "    def interpolate(self, points):\n",
    "        # Complete using the function below as a helper\n",
    "        \n",
    "    def lagrange_coefficient(self, i, points):\n",
    "        # Complete\n",
    "        \n",
    "\n",
    "original_polynomial = X**3 + 8*X**2 + 5*X + 1\n",
    "degree = original_polynomial.degree()\n",
    "print(f\"The original polynomial is: {original_polynomial} of degree {degree}\")\n",
    "\n",
    "evaluations = [Point.evaluation(original_polynomial, i+1) for i in range(degree+1)]\n",
    "print(f\"Evaluations are: {evaluations}\")\n",
    "\n",
    "interpolated_polynomial = Interpolator().interpolate(evaluations)\n",
    "print(f\"The interpolated polynomial is: {interpolated_polynomial} of degree {interpolated_polynomial.degree()}\")"
   ]
  },
  {
   "cell_type": "markdown",
   "id": "934751f6",
   "metadata": {},
   "source": [
    "## The protocol"
   ]
  },
  {
   "cell_type": "markdown",
   "id": "d27305f9",
   "metadata": {},
   "source": [
    "We want to construct a polynomial that can be splitted into some evaluations to distribute as shares, and also that can encode a secret.\n",
    "\n",
    "We'll encode the secret number $s$ in the coefficient $a_0$ because it's easy to retrieve it once you have the polynomial (it's $P(0)$).\n",
    "\n",
    "We need $P$ to be of degree $t$ because we want any subset of $t+1$ parties to be able to reconstruct it. So we choose random numbers of $\\mathbb{F}_p$ to be $a_1, \\dots , a_t$.\n",
    "\n",
    "The polynomial is then:\n",
    "\n",
    "$P(x) = $a_t$x^t + \\dots + $a_1$x + s$.\n",
    "\n",
    "The distributed shares are any $N$ evaluations of $P$. We will distribute them as pairs $(x_i, y_i)$.\n",
    "\n",
    "Notice that, in order to keep the secret, $(0,P(0))$ can't be a share because $P(0)=s$.\n",
    "\n",
    "The retrieve function is obtained by interpolating the input points and returning $L(0)$."
   ]
  },
  {
   "cell_type": "code",
   "execution_count": 45,
   "id": "c1b78341",
   "metadata": {},
   "outputs": [
    {
     "name": "stdout",
     "output_type": "stream",
     "text": [
      "Generated random poly: 4684*x^2 + 34732*x + 100\n",
      "Shares are [(1, 39516), (2, 22763), (3, 15378), (4, 17361), (5, 28712)]\n",
      "Obtained secret is 100\n"
     ]
    }
   ],
   "source": [
    "import random\n",
    "\n",
    "class ShamirSecretSharing:\n",
    "    def __init__(self, parties, N):\n",
    "        self.t = parties - 1\n",
    "        self.N = N\n",
    "    \n",
    "    def share(self, secret):\n",
    "        # Complete: create the random polynomial, hide the secret and create the shares\n",
    "    \n",
    "    def retrieve(self, shares):\n",
    "        if self.t >= len(shares):\n",
    "            raise Exception(f\"Not enough shares to retrieve the secret ({len(shares)} of {self.t+1}).\")\n",
    "            \n",
    "        # Complete: recover the polynomial and output the secret\n",
    "\n",
    "    \n",
    "\n",
    "original_secret = 100\n",
    "sss = ShamirSecretSharing(3, 5)\n",
    "\n",
    "shares = sss.share(original_secret)\n",
    "print(f\"Shares are {shares}\")\n",
    "\n",
    "obtained_secret = sss.retrieve([shares[0], shares[1], shares[2]])\n",
    "print(f\"Obtained secret is {obtained_secret}\")"
   ]
  }
 ],
 "metadata": {
  "kernelspec": {
   "display_name": "Python 3 (ipykernel)",
   "language": "python",
   "name": "python3"
  },
  "language_info": {
   "codemirror_mode": {
    "name": "ipython",
    "version": 3
   },
   "file_extension": ".py",
   "mimetype": "text/x-python",
   "name": "python",
   "nbconvert_exporter": "python",
   "pygments_lexer": "ipython3",
   "version": "3.11.9"
  }
 },
 "nbformat": 4,
 "nbformat_minor": 5
}
